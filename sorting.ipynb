{
  "nbformat": 4,
  "nbformat_minor": 0,
  "metadata": {
    "colab": {
      "provenance": [],
      "authorship_tag": "ABX9TyMbUHLdLNlCYO82iIO0mx+g",
      "include_colab_link": true
    },
    "kernelspec": {
      "name": "python3",
      "display_name": "Python 3"
    },
    "language_info": {
      "name": "python"
    }
  },
  "cells": [
    {
      "cell_type": "markdown",
      "metadata": {
        "id": "view-in-github",
        "colab_type": "text"
      },
      "source": [
        "<a href=\"https://colab.research.google.com/github/AbarinoRaven/58003-OOP/blob/main/sorting.ipynb\" target=\"_parent\"><img src=\"https://colab.research.google.com/assets/colab-badge.svg\" alt=\"Open In Colab\"/></a>"
      ]
    },
    {
      "cell_type": "code",
      "execution_count": 9,
      "metadata": {
        "colab": {
          "base_uri": "https://localhost:8080/"
        },
        "id": "lPgzYoBi1zqj",
        "outputId": "fde1c39c-80dd-462b-b493-67bf78a044c4"
      },
      "outputs": [
        {
          "output_type": "stream",
          "name": "stdout",
          "text": [
            "Elements of original array: \n",
            "cat\n",
            "dog\n",
            "fish\n",
            "\n",
            "\n",
            "\n"
          ]
        }
      ],
      "source": [
        "#Initialize array\n",
        "arr = [\"cat\", \"dog\", \"fish\"];\n",
        "temp= 0\n",
        "#Displaying elements of original array\n",
        "print(\"Elements of original array: \");\n",
        "for i in range(0, len(arr)):\n",
        "    print(arr[i]),\n",
        "\n",
        "#Sort the array in descending order\n",
        "for i in range(0, len(arr)):\n",
        "    for j in range(i+1, len(arr)):\n",
        "        if(arr[i] < arr[j]):\n",
        "            temp = arr[i];\n",
        "            arr[i] = arr[j];\n",
        "            arr[j] = temp;\n",
        "            print();\n",
        ""
      ]
    }
  ]
}