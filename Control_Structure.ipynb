{
  "nbformat": 4,
  "nbformat_minor": 0,
  "metadata": {
    "colab": {
      "provenance": [],
      "authorship_tag": "ABX9TyPfMcSN9NFLTRTqCvUIIwIS",
      "include_colab_link": true
    },
    "kernelspec": {
      "name": "python3",
      "display_name": "Python 3"
    },
    "language_info": {
      "name": "python"
    }
  },
  "cells": [
    {
      "cell_type": "markdown",
      "metadata": {
        "id": "view-in-github",
        "colab_type": "text"
      },
      "source": [
        "<a href=\"https://colab.research.google.com/github/AbarinoRaven/58003-OOP/blob/main/Control_Structure.ipynb\" target=\"_parent\"><img src=\"https://colab.research.google.com/assets/colab-badge.svg\" alt=\"Open In Colab\"/></a>"
      ]
    },
    {
      "cell_type": "markdown",
      "source": [],
      "metadata": {
        "id": "L5ZuOAEi7sUj"
      }
    },
    {
      "cell_type": "markdown",
      "source": [
        "If and Elif Condition"
      ],
      "metadata": {
        "id": "iOmiAAd17t_x"
      }
    },
    {
      "cell_type": "code",
      "source": [
        "if 5>3:\n",
        "  print(\"five is greater than three\")\n",
        "elif 5<3:\n",
        "  print(\"five is less than three\")"
      ],
      "metadata": {
        "colab": {
          "base_uri": "https://localhost:8080/"
        },
        "id": "5eIMcO7f7wxa",
        "outputId": "e203c571-98f2-440a-8f6e-7aec2ff347c2"
      },
      "execution_count": null,
      "outputs": [
        {
          "output_type": "stream",
          "name": "stdout",
          "text": [
            "five is greater than three\n"
          ]
        }
      ]
    },
    {
      "cell_type": "code",
      "source": [
        "if 3<2:\n",
        "  print(\"three is greater than two\")\n",
        "elif 3==2:\n",
        "  print(\"three is equal to two\")\n",
        "else:\n",
        "  print)(\"three is less than two\")\n",
        "\n",
        "\n"
      ],
      "metadata": {
        "id": "cUtl4D9E-BOj"
      },
      "execution_count": null,
      "outputs": []
    },
    {
      "cell_type": "markdown",
      "source": [
        " Application 1 - Create a python program that will compare if the student "
      ],
      "metadata": {
        "id": "RBMJirUI-rjK"
      }
    },
    {
      "cell_type": "code",
      "source": [
        "print(\"Type the grade level of student\")\n",
        "print(\"1 -6 = Elementary\")\n",
        "print(\"7 -12 = Secondary\")\n",
        "print(\"None of the choices above = Tertiary\")\n",
        "\n",
        "x = int(input())\n",
        "if x ==1 or x ==2 or x ==3 or x ==4 or x==5 or x ==6:\n",
        "  print(\"Elementary\")\n",
        "elif x==7 or x==8 or x==9 or x==10 or x==11 or x==12:\n",
        "  print(\"Secondary\")\n",
        "else:\n",
        "  print(\"You're in Tertiary Level\")"
      ],
      "metadata": {
        "colab": {
          "base_uri": "https://localhost:8080/"
        },
        "id": "pgbZmpo-_F-C",
        "outputId": "04e6713b-99e7-47b4-99fb-9036ae64d19a"
      },
      "execution_count": null,
      "outputs": [
        {
          "output_type": "stream",
          "name": "stdout",
          "text": [
            "Type the grade level of student\n",
            "1 -6 = Elementary\n",
            "7 -12 = Secondary\n",
            "None of the choices above = Tertiary\n",
            "25\n",
            "You're in Tertiary Level\n"
          ]
        }
      ]
    },
    {
      "cell_type": "markdown",
      "source": [
        "Short Hand if Satement"
      ],
      "metadata": {
        "id": "0UC1fKZTBt7z"
      }
    },
    {
      "cell_type": "code",
      "source": [
        "a = 1\n",
        "b = 2\n",
        "\n",
        "if a<b: print(\"a is less than b\")\n"
      ],
      "metadata": {
        "colab": {
          "base_uri": "https://localhost:8080/"
        },
        "id": "5qXgBScRCX9q",
        "outputId": "fd8cfc06-f851-4852-9c18-142a34934041"
      },
      "execution_count": null,
      "outputs": [
        {
          "output_type": "stream",
          "name": "stdout",
          "text": [
            "a is less than b\n"
          ]
        }
      ]
    },
    {
      "cell_type": "markdown",
      "source": [
        "Short Hand if-else statement"
      ],
      "metadata": {
        "id": "kcDMSX4VCmgS"
      }
    },
    {
      "cell_type": "code",
      "source": [
        "print(\"a is less than b\")if a<b else print(\"a is greater than b\")\n",
        "\n"
      ],
      "metadata": {
        "colab": {
          "base_uri": "https://localhost:8080/"
        },
        "id": "sTj-ag1zCrqy",
        "outputId": "b10cfabf-5d1a-496d-88ee-c7ad131c64f0"
      },
      "execution_count": null,
      "outputs": [
        {
          "output_type": "stream",
          "name": "stdout",
          "text": [
            "a is less than b\n"
          ]
        }
      ]
    },
    {
      "cell_type": "markdown",
      "source": [
        "Nested if-else"
      ],
      "metadata": {
        "id": "s5LglCoGEpMj"
      }
    },
    {
      "cell_type": "markdown",
      "source": [
        "Example 1: Write a program that determines if the input ageis qualified to vote or not. The qualifying age is18 years old and above."
      ],
      "metadata": {
        "id": "g54SsFZ-M6Ut"
      }
    },
    {
      "cell_type": "code",
      "source": [
        "age = int(input(\"Enter age : \"))\n",
        "\n",
        "if age >= 18:\n",
        "  print(\"Eligible for Voting!\")\n",
        "else:\n",
        "  print(\"Not Eligible for Voting!\")\n",
        "\n",
        " "
      ],
      "metadata": {
        "id": "iqVz1l_XH1tM"
      },
      "execution_count": null,
      "outputs": []
    },
    {
      "cell_type": "markdown",
      "source": [],
      "metadata": {
        "id": "WJ0plHb7OsjV"
      }
    },
    {
      "cell_type": "code",
      "source": [
        "n = float(input(\"Input a number: \"))\n",
        "if n >= 0:\n",
        "  if n == 0:\n",
        "      print(\"It's Zero\")\n",
        "  else:\n",
        "      print(\"Number is Positive number.\")\n",
        "else:\n",
        "  print(\"Number is Negative number.\")"
      ],
      "metadata": {
        "id": "uXWLwM1ULM7N"
      },
      "execution_count": null,
      "outputs": []
    },
    {
      "cell_type": "markdown",
      "source": [
        "Example 3: write a program to determine if the grades are:"
      ],
      "metadata": {
        "id": "zOoddvYPNuCW"
      }
    },
    {
      "cell_type": "code",
      "source": [
        "print(\"Input Subject Grades\")\n",
        "u = int(input())\n",
        "v = int(input())\n",
        "x = int(input())\n",
        "y = int(input())\n",
        "z = int(input())\n",
        "\n",
        "a = u*0.10 + v*0.20 + x*0.20 + y*0.30 + z*0.20 \n",
        "print(\"Your average grade is\",a)\n",
        "if a>75:\n",
        "  print(\"Passed\")\n",
        "elif a>70:\n",
        "  print(\"Remedial\")\n",
        "elif a>65:\n",
        "  print(\"Failed\")\n"
      ],
      "metadata": {
        "colab": {
          "base_uri": "https://localhost:8080/"
        },
        "id": "S2zbAhU_RC8-",
        "outputId": "110b3a34-260e-4d61-8f5d-f57355e15d0c"
      },
      "execution_count": null,
      "outputs": [
        {
          "output_type": "stream",
          "name": "stdout",
          "text": [
            "Input Subject Grades\n"
          ]
        }
      ]
    },
    {
      "cell_type": "code",
      "source": [],
      "metadata": {
        "id": "zzAdCQRaEB8k"
      },
      "execution_count": null,
      "outputs": []
    }
  ]
}