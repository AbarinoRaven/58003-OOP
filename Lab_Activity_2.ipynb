{
  "nbformat": 4,
  "nbformat_minor": 0,
  "metadata": {
    "colab": {
      "provenance": [],
      "authorship_tag": "ABX9TyP53FLAqLcNrtQy7yosTRRe",
      "include_colab_link": true
    },
    "kernelspec": {
      "name": "python3",
      "display_name": "Python 3"
    },
    "language_info": {
      "name": "python"
    }
  },
  "cells": [
    {
      "cell_type": "markdown",
      "metadata": {
        "id": "view-in-github",
        "colab_type": "text"
      },
      "source": [
        "<a href=\"https://colab.research.google.com/github/AbarinoRaven/58003-OOP/blob/main/Lab_Activity_2.ipynb\" target=\"_parent\"><img src=\"https://colab.research.google.com/assets/colab-badge.svg\" alt=\"Open In Colab\"/></a>"
      ]
    },
    {
      "cell_type": "markdown",
      "source": [
        "LAB ACTIVITY 2"
      ],
      "metadata": {
        "id": "G97LweqEZ9WB"
      }
    },
    {
      "cell_type": "code",
      "source": [
        "class Circle:\n",
        "    pi = 3.14159\n",
        "\n",
        "    def __init__(self, radius):\n",
        "        self.radius = radius\n",
        "\n",
        "    def Perimeter(self):\n",
        "        return 2 * Circle.pi * self.radius\n",
        "\n",
        "    def Area(self):\n",
        "        return Circle.pi * self.radius ** 2\n",
        "\n",
        "    def Display(self):\n",
        "        print(f\"The perimeter of the circle is: {self.Perimeter():.2f}\")\n",
        "        print(f\"The area of the circle is: {self.Area():.2f}\")\n",
        "\n",
        "# Taking user input for the radius of the circle\n",
        "radius = float(input(\"Enter the radius of the circle: \"))\n",
        "\n",
        "# Creating an instance of the Circle class\n",
        "circle = Circle(radius)\n",
        "\n",
        "# Calling the Display method to print the perimeter and area of the circle\n",
        "circle.Display()"
      ],
      "metadata": {
        "id": "aC15dDCTZ5P3"
      },
      "execution_count": null,
      "outputs": []
    }
  ]
}