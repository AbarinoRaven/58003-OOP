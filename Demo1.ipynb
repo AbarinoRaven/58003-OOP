{
  "nbformat": 4,
  "nbformat_minor": 0,
  "metadata": {
    "colab": {
      "provenance": [],
      "authorship_tag": "ABX9TyNCmYqh+gRNpgDVYF6P937e",
      "include_colab_link": true
    },
    "kernelspec": {
      "name": "python3",
      "display_name": "Python 3"
    },
    "language_info": {
      "name": "python"
    }
  },
  "cells": [
    {
      "cell_type": "markdown",
      "metadata": {
        "id": "view-in-github",
        "colab_type": "text"
      },
      "source": [
        "<a href=\"https://colab.research.google.com/github/AbarinoRaven/58003-OOP/blob/main/Demo1.ipynb\" target=\"_parent\"><img src=\"https://colab.research.google.com/assets/colab-badge.svg\" alt=\"Open In Colab\"/></a>"
      ]
    },
    {
      "cell_type": "code",
      "execution_count": 3,
      "metadata": {
        "colab": {
          "base_uri": "https://localhost:8080/"
        },
        "id": "hzhFG4WkFWs_",
        "outputId": "c0f02c57-1737-4bc2-fa7d-d8faa2645fdc"
      },
      "outputs": [
        {
          "output_type": "stream",
          "name": "stdout",
          "text": [
            "Python programming is enjoying\n"
          ]
        }
      ],
      "source": [
        "#Output Variable\n",
        "x=\"enjoying\"\n",
        "print(\"Python programming is \"+ x)"
      ]
    },
    {
      "cell_type": "markdown",
      "source": [
        "Introduction to Python Fundamentals"
      ],
      "metadata": {
        "id": "KGY6EepoFkbC"
      }
    },
    {
      "cell_type": "markdown",
      "source": [
        "\n"
      ],
      "metadata": {
        "id": "FT8-nCVEGIBJ"
      }
    },
    {
      "cell_type": "code",
      "source": [
        "#Output Variable\n",
        "x = \"python is \"\n",
        "y = \"enjoying\"\n",
        "z = x + y\n",
        "print(z)"
      ],
      "metadata": {
        "colab": {
          "base_uri": "https://localhost:8080/"
        },
        "id": "X5227FmeO-pt",
        "outputId": "510a1dbc-bd0f-40af-a6fd-70301d198287"
      },
      "execution_count": 5,
      "outputs": [
        {
          "output_type": "stream",
          "name": "stdout",
          "text": [
            "python is enjoying\n"
          ]
        }
      ]
    },
    {
      "cell_type": "code",
      "source": [
        "#Arithmetic Operation\n",
        "x = 5\n",
        "y = 3\n",
        "print (x+y)\n",
        "\n",
        "x = 5\n",
        "y = 3\n",
        "sum=x+y\n",
        "sum"
      ],
      "metadata": {
        "colab": {
          "base_uri": "https://localhost:8080/"
        },
        "id": "cp3_b414P3b6",
        "outputId": "44a63dbf-e5b8-4e70-c760-dd9fd939a667"
      },
      "execution_count": 6,
      "outputs": [
        {
          "output_type": "stream",
          "name": "stdout",
          "text": [
            "8\n"
          ]
        },
        {
          "output_type": "execute_result",
          "data": {
            "text/plain": [
              "8"
            ]
          },
          "metadata": {},
          "execution_count": 6
        }
      ]
    },
    {
      "cell_type": "code",
      "source": [
        "#Assignment Variable\n",
        "a,b,c=0,-1,6\n",
        "c%=3\n",
        "c"
      ],
      "metadata": {
        "colab": {
          "base_uri": "https://localhost:8080/"
        },
        "id": "gvo0P8AhQl-K",
        "outputId": "c8af5f3f-bdc1-44fe-858e-c6c22c4d102a"
      },
      "execution_count": 7,
      "outputs": [
        {
          "output_type": "execute_result",
          "data": {
            "text/plain": [
              "0"
            ]
          },
          "metadata": {},
          "execution_count": 7
        }
      ]
    },
    {
      "cell_type": "code",
      "source": [
        "#Logical Operation\n",
        "a,b,c=0,-1,6\n",
        "a>b and c>b\n",
        "True"
      ],
      "metadata": {
        "colab": {
          "base_uri": "https://localhost:8080/"
        },
        "id": "LNSnTTk1Q-G6",
        "outputId": "2ad1ea3f-b5ae-4be7-dcc3-b5dbdb2962d6"
      },
      "execution_count": 9,
      "outputs": [
        {
          "output_type": "execute_result",
          "data": {
            "text/plain": [
              "True"
            ]
          },
          "metadata": {},
          "execution_count": 9
        }
      ]
    },
    {
      "cell_type": "code",
      "source": [
        "#Identity Operator\n",
        "a,b,c=0,-1,5\n",
        "a is c\n",
        "False"
      ],
      "metadata": {
        "colab": {
          "base_uri": "https://localhost:8080/"
        },
        "id": "AHfEcpw2RWUC",
        "outputId": "ccb97eac-565d-4478-9875-a85a03661cd0"
      },
      "execution_count": 10,
      "outputs": [
        {
          "output_type": "execute_result",
          "data": {
            "text/plain": [
              "False"
            ]
          },
          "metadata": {},
          "execution_count": 10
        }
      ]
    }
  ]
}