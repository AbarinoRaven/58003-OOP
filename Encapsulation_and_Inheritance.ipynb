{
  "nbformat": 4,
  "nbformat_minor": 0,
  "metadata": {
    "colab": {
      "provenance": [],
      "authorship_tag": "ABX9TyPum4EFm0EzOr7EQbLIal2H",
      "include_colab_link": true
    },
    "kernelspec": {
      "name": "python3",
      "display_name": "Python 3"
    },
    "language_info": {
      "name": "python"
    }
  },
  "cells": [
    {
      "cell_type": "markdown",
      "metadata": {
        "id": "view-in-github",
        "colab_type": "text"
      },
      "source": [
        "<a href=\"https://colab.research.google.com/github/AbarinoRaven/58003-OOP/blob/main/Encapsulation_and_Inheritance.ipynb\" target=\"_parent\"><img src=\"https://colab.research.google.com/assets/colab-badge.svg\" alt=\"Open In Colab\"/></a>"
      ]
    },
    {
      "cell_type": "code",
      "execution_count": null,
      "metadata": {
        "id": "Qr8OsAjkL5kA"
      },
      "outputs": [],
      "source": [
        "class foo:\n",
        "  def __init__(self, a, b):\n",
        "    self.__a = a\n",
        "    self.__b = b\n",
        "  def add(self):\n",
        "    return self.__a + self.__b\n",
        "foo_object = foo(3,4)\n",
        "foo_object.add()"
      ]
    },
    {
      "cell_type": "code",
      "source": [
        "#Example 2\n",
        "\n",
        "class Counter:\n",
        "  def __init__(self, current):\n",
        "    self.current = 0\n",
        "\n",
        "  def increment(self):\n",
        "    self.current += 1\n",
        "\n",
        "  def value(self):\n",
        "    return self.current\n",
        "\n",
        "  def reset(self):\n",
        "    self.current = 0\n",
        "  \n",
        "  def display_counter(self):\n",
        "    print(\"The increment is\",self.increment())\n",
        "    print(\"The current value is\",self.value())\n",
        "    print(\"Reset value is\",self.reset())\n",
        "\n",
        "counter1 = Counter(0)\n",
        "counter1.display_counter()"
      ],
      "metadata": {
        "id": "KlQ38FOIMCT2"
      },
      "execution_count": null,
      "outputs": []
    },
    {
      "cell_type": "code",
      "source": [],
      "metadata": {
        "id": "CCFxqRAyMDcu"
      },
      "execution_count": null,
      "outputs": []
    },
    {
      "cell_type": "code",
      "source": [
        "#Inheritance\n",
        "class Person:\n",
        "  def __init__(self, name, birthdate):\n",
        "    self.name = name\n",
        "    self.birthdate = birthdate\n",
        "  def display_identity(self):\n",
        "    print(\"My name is\",self.name)\n",
        "    print(\"My birthday is\",self.birthdate)\n",
        "class Teacher(Person):\n",
        "  pass\n",
        "\n",
        "class Student(Person):\n",
        "  pass\n",
        "\n",
        "teacher = Teacher(\"Shane\",\"February 14, 2002\")\n",
        "student = Student(\"Raven\",\"November 25, 2003\")\n",
        "\n",
        "teacher.display_identity()\n",
        "student.display_identity()"
      ],
      "metadata": {
        "colab": {
          "base_uri": "https://localhost:8080/"
        },
        "id": "IrO3yZTGMGQ2",
        "outputId": "f247da4a-c44e-47d7-aa34-b1a75d5d6af6"
      },
      "execution_count": 1,
      "outputs": [
        {
          "output_type": "stream",
          "name": "stdout",
          "text": [
            "My name is Shane\n",
            "My birthday is February 14, 2002\n",
            "My name is Raven\n",
            "My birthday is November 25, 2003\n"
          ]
        }
      ]
    },
    {
      "cell_type": "markdown",
      "source": [],
      "metadata": {
        "id": "vprHgjMHL8yn"
      }
    },
    {
      "cell_type": "code",
      "source": [
        "#Choose 5 examples of shapes (e.g triangle, square, rectangle)\n",
        "#class name is Shape\n",
        "#sides as attribute\n",
        "#Display() method to show the number of sides\n",
        "#Apply Encapsulation by mangling (double underscore)\n",
        "#Inherit the properties of the each shape from the parent class Shape\n",
        "\n",
        "class Shape:\n",
        "    def __init__(self, sides):\n",
        "        self.__sides = sides\n",
        "\n",
        "    def __display(self):\n",
        "        print(\"This shape has\", self.__sides, \"sides.\")\n",
        "\n",
        "    def show_sides(self):\n",
        "        self.__display()\n",
        "\n",
        "class Triangle(Shape):\n",
        "    def __init__(self):\n",
        "        super().__init__(3)\n",
        "\n",
        "class Square(Shape):\n",
        "    def __init__(self):\n",
        "        super().__init__(4)\n",
        "\n",
        "class Rectangle(Shape):\n",
        "    def __init__(self):\n",
        "        super().__init__(4)\n",
        "\n",
        "class Pentagon(Shape):\n",
        "    def __init__(self):\n",
        "        super().__init__(5)\n",
        "\n",
        "class Hexagon(Shape):\n",
        "    def __init__(self):\n",
        "        super().__init__(6)\n",
        "\n",
        "# create some shape objects and display their sides\n",
        "t = Triangle()\n",
        "t.show_sides()\n",
        "\n",
        "s = Square()\n",
        "s.show_sides()\n",
        "\n",
        "r = Rectangle()\n",
        "r.show_sides()\n",
        "\n",
        "p = Pentagon()\n",
        "p.show_sides()\n",
        "\n",
        "h = Hexagon()\n",
        "h.show_sides()\n"
      ],
      "metadata": {
        "id": "OLcOrwbbMPL-"
      },
      "execution_count": null,
      "outputs": []
    }
  ]
}